{
 "cells": [
  {
   "cell_type": "markdown",
   "id": "6b2ca95b",
   "metadata": {},
   "source": [
    "### Install and Import Necessary Libraries"
   ]
  },
  {
   "cell_type": "code",
   "execution_count": 1,
   "id": "549db523",
   "metadata": {},
   "outputs": [
    {
     "name": "stdout",
     "output_type": "stream",
     "text": [
      "Collecting easyesn\n",
      "  Downloading easyesn-0.1.6.1-py2.py3-none-any.whl (39 kB)\n",
      "Collecting progressbar2\n",
      "  Downloading progressbar2-4.0.0-py2.py3-none-any.whl (26 kB)\n",
      "Collecting dill\n",
      "  Downloading dill-0.3.4-py2.py3-none-any.whl (86 kB)\n",
      "Collecting sklearn\n",
      "  Downloading sklearn-0.0.tar.gz (1.1 kB)\n",
      "Collecting multiprocess\n",
      "  Downloading multiprocess-0.70.12.2-py38-none-any.whl (128 kB)\n",
      "Requirement already satisfied: numpy in c:\\users\\shour\\anaconda3\\lib\\site-packages (from easyesn) (1.20.1)\n",
      "Collecting python-utils>=3.0.0\n",
      "  Downloading python_utils-3.1.0-py2.py3-none-any.whl (19 kB)\n",
      "Requirement already satisfied: scikit-learn in c:\\users\\shour\\anaconda3\\lib\\site-packages (from sklearn->easyesn) (0.24.1)\n",
      "Requirement already satisfied: threadpoolctl>=2.0.0 in c:\\users\\shour\\anaconda3\\lib\\site-packages (from scikit-learn->sklearn->easyesn) (2.1.0)\n",
      "Requirement already satisfied: scipy>=0.19.1 in c:\\users\\shour\\anaconda3\\lib\\site-packages (from scikit-learn->sklearn->easyesn) (1.6.2)\n",
      "Requirement already satisfied: joblib>=0.11 in c:\\users\\shour\\anaconda3\\lib\\site-packages (from scikit-learn->sklearn->easyesn) (1.0.1)\n",
      "Building wheels for collected packages: sklearn\n",
      "  Building wheel for sklearn (setup.py): started\n",
      "  Building wheel for sklearn (setup.py): finished with status 'done'\n",
      "  Created wheel for sklearn: filename=sklearn-0.0-py2.py3-none-any.whl size=1316 sha256=93406f727be206a6de41f75df68bb0d335d8a307de14816ccc5e8e33e970058b\n",
      "  Stored in directory: c:\\users\\shour\\appdata\\local\\pip\\cache\\wheels\\22\\0b\\40\\fd3f795caaa1fb4c6cb738bc1f56100be1e57da95849bfc897\n",
      "Successfully built sklearn\n",
      "Installing collected packages: python-utils, dill, sklearn, progressbar2, multiprocess, easyesn\n",
      "Successfully installed dill-0.3.4 easyesn-0.1.6.1 multiprocess-0.70.12.2 progressbar2-4.0.0 python-utils-3.1.0 sklearn-0.0\n",
      "Note: you may need to restart the kernel to use updated packages.\n"
     ]
    }
   ],
   "source": [
    "pip install easyesn"
   ]
  },
  {
   "cell_type": "code",
   "execution_count": 420,
   "id": "400b9835",
   "metadata": {},
   "outputs": [],
   "source": [
    "import numpy as np\n",
    "\n",
    "from easyesn.optimizers import GradientOptimizer\n",
    "from easyesn import PredictionESN\n",
    "from easyesn.optimizers import GridSearchOptimizer\n",
    "from easyesn import helper as hlp\n",
    "import matplotlib.pyplot as plt\n",
    "\n",
    "from sklearn.preprocessing import MinMaxScaler\n",
    "\n",
    "import pandas as pd\n",
    "from pandas_datareader import data\n",
    "from datetime import datetime\n",
    "\n",
    "np.random.seed(42)"
   ]
  },
  {
   "cell_type": "markdown",
   "id": "fc3ce3ae",
   "metadata": {},
   "source": [
    "### Data Preparation"
   ]
  },
  {
   "cell_type": "code",
   "execution_count": 421,
   "id": "f01453fe",
   "metadata": {},
   "outputs": [],
   "source": [
    "start = datetime.strptime('2004-01-02','%Y-%m-%d')\n",
    "end = datetime.strptime('2009-6-30','%Y-%m-%d')"
   ]
  },
  {
   "cell_type": "code",
   "execution_count": 422,
   "id": "dc8284fa",
   "metadata": {},
   "outputs": [],
   "source": [
    "df = data.DataReader('APA',start=start, end=end, data_source='yahoo')\n",
    "df = df[:1500]['Close']"
   ]
  },
  {
   "cell_type": "code",
   "execution_count": 423,
   "id": "df9e3ffd",
   "metadata": {},
   "outputs": [],
   "source": [
    "scaler=MinMaxScaler(feature_range=(0,1))\n",
    "data = scaler.fit_transform(np.array(df).reshape(-1,1))"
   ]
  },
  {
   "cell_type": "code",
   "execution_count": 424,
   "id": "7a94cb1f",
   "metadata": {},
   "outputs": [],
   "source": [
    "training_size=int(len(data)*0.65)\n",
    "test_size=len(data)-training_size\n",
    "train_data,test_data=data[0:training_size,:],data[training_size:len(data),:]"
   ]
  },
  {
   "cell_type": "code",
   "execution_count": 425,
   "id": "b6eaea3c",
   "metadata": {},
   "outputs": [],
   "source": [
    "def create_dataset(dataset, time_step=1):\n",
    "    dataX, dataY = [], []\n",
    "    for i in range(len(dataset)-time_step-1):\n",
    "        a = dataset[i:(i+time_step), 0]\n",
    "        dataX.append(a)\n",
    "        dataY.append([dataset[i+time_step,0]])\n",
    "    return np.array(dataX), np.array(dataY)"
   ]
  },
  {
   "cell_type": "code",
   "execution_count": 426,
   "id": "5426e1ca",
   "metadata": {},
   "outputs": [],
   "source": [
    "time_step = 10 # Use 100 data points to predict the 101st data point\n",
    "X_train, y_train = create_dataset(train_data, time_step)\n",
    "X_test, y_test = create_dataset(test_data, time_step)"
   ]
  },
  {
   "cell_type": "markdown",
   "id": "66001578",
   "metadata": {},
   "source": [
    "### Model Creation and Fitting"
   ]
  },
  {
   "cell_type": "code",
   "execution_count": 432,
   "id": "de204cf3",
   "metadata": {},
   "outputs": [],
   "source": [
    "esn = PredictionESN(n_input=time_step, n_output=1, n_reservoir=50, leakingRate=0.2, regressionParameters=[1e-6], solver=\"lsqr\", feedback=True)"
   ]
  },
  {
   "cell_type": "code",
   "execution_count": 433,
   "id": "f5b8e091",
   "metadata": {},
   "outputs": [
    {
     "name": "stderr",
     "output_type": "stream",
     "text": [
      "100% (797 of 797) |######################| Elapsed Time: 0:00:00 Time:  0:00:00\n"
     ]
    },
    {
     "data": {
      "text/plain": [
       "0.00986877096478935"
      ]
     },
     "execution_count": 433,
     "metadata": {},
     "output_type": "execute_result"
    }
   ],
   "source": [
    "esn.fit(X_train, y_train, transientTime=\"Auto\", verbose=1)"
   ]
  },
  {
   "cell_type": "markdown",
   "id": "9de48f15",
   "metadata": {},
   "source": [
    "### Prediction"
   ]
  },
  {
   "cell_type": "code",
   "execution_count": 434,
   "id": "08cb17ea",
   "metadata": {},
   "outputs": [],
   "source": [
    "train_predict=esn.predict(X_train)\n",
    "test_predict=esn.predict(X_test)\n",
    "train_predict=scaler.inverse_transform(train_predict)\n",
    "test_predict=scaler.inverse_transform(test_predict)"
   ]
  },
  {
   "cell_type": "markdown",
   "id": "1454ff45",
   "metadata": {},
   "source": [
    "### Visualization"
   ]
  },
  {
   "cell_type": "code",
   "execution_count": 435,
   "id": "d2e3a910",
   "metadata": {},
   "outputs": [
    {
     "data": {
      "image/png": "[encoded data removed]",
      "text/plain": [
       "<Figure size 864x576 with 1 Axes>"
      ]
     },
     "metadata": {
      "needs_background": "light"
     },
     "output_type": "display_data"
    }
   ],
   "source": [
    "look_back=time_step\n",
    "trainPredictPlot=np.empty_like(data)\n",
    "trainPredictPlot[:,:]=np.nan\n",
    "trainPredictPlot[look_back:len(train_predict)+look_back,:] = train_predict\n",
    "\n",
    "testPredictPlot=np.empty_like(data)\n",
    "testPredictPlot[:,:] = np.nan\n",
    "testPredictPlot[len(train_predict)+(look_back*2)+1:len(data)-1,:] = test_predict\n",
    "\n",
    "plt.figure(figsize=(12,8))\n",
    "plt.plot(scaler.inverse_transform(data))\n",
    "plt.plot(testPredictPlot)\n",
    "plt.plot(trainPredictPlot)\n",
    "plt.legend(['Price Data','Test Data Predicition','Train Data Prediction'])\n",
    "\n",
    "plt.show()"
   ]
  },
  {
   "cell_type": "code",
   "execution_count": 431,
   "id": "a6199876",
   "metadata": {},
   "outputs": [
    {
     "data": {
      "text/plain": [
       "<function matplotlib.pyplot.show(close=None, block=None)>"
      ]
     },
     "execution_count": 431,
     "metadata": {},
     "output_type": "execute_result"
    },
    {
     "data": {
      "image/png": "[encoded data removed]",
      "text/plain": [
       "<Figure size 864x576 with 1 Axes>"
      ]
     },
     "metadata": {
      "needs_background": "light"
     },
     "output_type": "display_data"
    }
   ],
   "source": [
    "plt.figure(figsize=(12,8))\n",
    "plt.plot(scaler.inverse_transform(data)[len(train_predict)+(look_back*2)+1:len(data)-1])\n",
    "plt.plot(test_predict)\n",
    "plt.legend(['Price Data','Test Data Predicition'])\n",
    "plt.show"
   ]
  },
  {
   "cell_type": "code",
   "execution_count": 415,
   "id": "62cc30c6",
   "metadata": {},
   "outputs": [],
   "source": [
    "opt = GridSearchOptimizer(esn)"
   ]
  },
  {
   "cell_type": "code",
   "execution_count": 416,
   "id": "6300c02b",
   "metadata": {},
   "outputs": [
    {
     "ename": "AttributeError",
     "evalue": "'GridSearchOptimizer' object has no attribute 'optimizePenalty'",
     "output_type": "error",
     "traceback": [
      "\u001b[1;31m---------------------------------------------------------------------------\u001b[0m",
      "\u001b[1;31mAttributeError\u001b[0m                            Traceback (most recent call last)",
      "\u001b[1;32m<ipython-input-416-8b9816c72ef7>\u001b[0m in \u001b[0;36m<module>\u001b[1;34m\u001b[0m\n\u001b[0;32m      1\u001b[0m \u001b[1;31m#validationLosses, fitLosses, inputScalings, leakingRates, spctral_radius, learningRates = opt.optimizeParameterForTrainError(X_train, y_train, X_test, y_test, epochs=150, transientTime=100)\u001b[0m\u001b[1;33m\u001b[0m\u001b[1;33m\u001b[0m\u001b[1;33m\u001b[0m\u001b[0m\n\u001b[1;32m----> 2\u001b[1;33m \u001b[0mvalidationLosses\u001b[0m\u001b[1;33m,\u001b[0m \u001b[0mfitLosses\u001b[0m\u001b[1;33m,\u001b[0m \u001b[0mpenalties\u001b[0m \u001b[1;33m=\u001b[0m \u001b[0mopt\u001b[0m\u001b[1;33m.\u001b[0m\u001b[0moptimizePenalty\u001b[0m\u001b[1;33m(\u001b[0m\u001b[0mX_train\u001b[0m\u001b[1;33m,\u001b[0m \u001b[0my_train\u001b[0m\u001b[1;33m,\u001b[0m \u001b[0mX_test\u001b[0m\u001b[1;33m,\u001b[0m \u001b[0my_test\u001b[0m\u001b[1;33m,\u001b[0m \u001b[0mepochs\u001b[0m\u001b[1;33m=\u001b[0m\u001b[1;36m150\u001b[0m\u001b[1;33m,\u001b[0m \u001b[0mtransientTime\u001b[0m\u001b[1;33m=\u001b[0m\u001b[1;36m100\u001b[0m\u001b[1;33m)\u001b[0m\u001b[1;33m\u001b[0m\u001b[1;33m\u001b[0m\u001b[0m\n\u001b[0m",
      "\u001b[1;31mAttributeError\u001b[0m: 'GridSearchOptimizer' object has no attribute 'optimizePenalty'"
     ]
    }
   ],
   "source": [
    "#validationLosses, fitLosses, inputScalings, leakingRates, spctral_radius, learningRates = opt.optimizeParameterForTrainError(X_train, y_train, X_test, y_test, epochs=150, transientTime=100)\n",
    "validationLosses, fitLosses, penalties = opt.optimizePenalty(X_train, y_train, X_test, y_test, epochs=150, transientTime=100)"
   ]
  },
  {
   "cell_type": "code",
   "execution_count": 404,
   "id": "bb7d841f",
   "metadata": {},
   "outputs": [
    {
     "data": {
      "text/plain": [
       "[<matplotlib.lines.Line2D at 0x22802b61e80>]"
      ]
     },
     "execution_count": 404,
     "metadata": {},
     "output_type": "execute_result"
    },
    {
     "data": {
      "image/png": "[encoded data removed]",
      "text/plain": [
       "<Figure size 432x288 with 1 Axes>"
      ]
     },
     "metadata": {
      "needs_background": "light"
     },
     "output_type": "display_data"
    }
   ],
   "source": [
    "plt.plot(validationLosses)"
   ]
  },
  {
   "cell_type": "code",
   "execution_count": 405,
   "id": "ff317555",
   "metadata": {},
   "outputs": [
    {
     "data": {
      "text/plain": [
       "[0.014396253988908507,\n",
       " 0.015550353036760214,\n",
       " 0.0160488171882296,\n",
       " 0.01624483861605383,\n",
       " 0.01639283815492589,\n",
       " 0.016505035818117107,\n",
       " 0.01658964213903719,\n",
       " 0.016653360624764794,\n",
       " 0.01670113109449107,\n",
       " 0.016736955357066586,\n",
       " 0.016763778854808457,\n",
       " 0.01680387069045535,\n",
       " 0.016833883900667902,\n",
       " 0.016856393250947222,\n",
       " 0.016889930445329562,\n",
       " 0.016915047718678033,\n",
       " 0.016952775969306864,\n",
       " 0.016980846072602925,\n",
       " 0.017001859062187097,\n",
       " 0.017033498428181842,\n",
       " 0.01705694539350225,\n",
       " 0.017092418742717216,\n",
       " 0.01711877170173379,\n",
       " 0.01713821095948001,\n",
       " 0.017167982313012836,\n",
       " 0.01718981348795919,\n",
       " 0.017223219189497242,\n",
       " 0.01724776085445162,\n",
       " 0.01726581339962124,\n",
       " 0.017293835465098908,\n",
       " 0.017314132630745677,\n",
       " 0.017345406374886418,\n",
       " 0.01736828366715366,\n",
       " 0.017385071907572713,\n",
       " 0.017411238484341604,\n",
       " 0.017430184896975325,\n",
       " 0.01745964275814436,\n",
       " 0.017480901284350637,\n",
       " 0.01749638940103594,\n",
       " 0.017520917011892997,\n",
       " 0.017538460920278838,\n",
       " 0.017566024186533125,\n",
       " 0.017585712082502536,\n",
       " 0.017600197394089426,\n",
       " 0.017623163602258574,\n",
       " 0.017639490169213175,\n",
       " 0.017665300966332148,\n",
       " 0.017683577991472764,\n",
       " 0.017696986316696885,\n",
       " 0.017718496062263864,\n",
       " 0.017733625420806035,\n",
       " 0.01775769802901644,\n",
       " 0.017774755991977063,\n",
       " 0.01778734401473875,\n",
       " 0.017807323681463233,\n",
       " 0.017821452432568215,\n",
       " 0.017843912904835637,\n",
       " 0.01785979652984519,\n",
       " 0.017871393961270143,\n",
       " 0.01789020835878119,\n",
       " 0.017903288298518245,\n",
       " 0.017924200956545552,\n",
       " 0.017939006771190553,\n",
       " 0.017949753894059922,\n",
       " 0.01796720693953299,\n",
       " 0.017979469105191544,\n",
       " 0.017998935564235832,\n",
       " 0.018012936679614226,\n",
       " 0.018022995012650107,\n",
       " 0.0180393621434931,\n",
       " 0.01805060119670995,\n",
       " 0.018068788056547717,\n",
       " 0.01808183141470012,\n",
       " 0.01810216427087942,\n",
       " 0.01811674632231692,\n",
       " 0.018127428572550782,\n",
       " 0.018144346379796533,\n",
       " 0.018156340717178244,\n",
       " 0.01817541177250885,\n",
       " 0.01818887321600253,\n",
       " 0.018198850290697483,\n",
       " 0.018214618938553695,\n",
       " 0.01822590307711934,\n",
       " 0.018243531019852453,\n",
       " 0.018256087957809475,\n",
       " 0.01826547269850845,\n",
       " 0.018280090099955196,\n",
       " 0.018290659240037237,\n",
       " 0.018306965154051273,\n",
       " 0.01831886337597189]"
      ]
     },
     "execution_count": 405,
     "metadata": {},
     "output_type": "execute_result"
    }
   ],
   "source": [
    "validationLosses"
   ]
  },
  {
   "cell_type": "code",
   "execution_count": 406,
   "id": "2105b22a",
   "metadata": {},
   "outputs": [
    {
     "data": {
      "text/plain": [
       "[0.009900877806120284,\n",
       " 0.009900840544427523,\n",
       " 0.009900837858176269,\n",
       " 0.009900822128673624,\n",
       " 0.00990081812679702,\n",
       " 0.009900811070984093,\n",
       " 0.009900801216901641,\n",
       " 0.00990078896855302,\n",
       " 0.009900774719887366,\n",
       " 0.00990075875529832,\n",
       " 0.009900741439571589,\n",
       " 0.009900740752390532,\n",
       " 0.00990072402573711,\n",
       " 0.009900706122993931,\n",
       " 0.009900704702945433,\n",
       " 0.00990068728469262,\n",
       " 0.009900686756393906,\n",
       " 0.00990066996117678,\n",
       " 0.009900651831678528,\n",
       " 0.009900650540661554,\n",
       " 0.009900632920044075,\n",
       " 0.009900632595839313,\n",
       " 0.00990061562757559,\n",
       " 0.009900597285820824,\n",
       " 0.009900596099881464,\n",
       " 0.009900578232677214,\n",
       " 0.009900578046514829,\n",
       " 0.009900560827598543,\n",
       " 0.009900542207818483,\n",
       " 0.00990054105955075,\n",
       " 0.009900522971044459,\n",
       " 0.009900522760103168,\n",
       " 0.009900505281553524,\n",
       " 0.009900486355715341,\n",
       " 0.009900485205670544,\n",
       " 0.009900466823541761,\n",
       " 0.009900466697232177,\n",
       " 0.00990044899488949,\n",
       " 0.009900429755082011,\n",
       " 0.009900428558191635,\n",
       " 0.009900409859284904,\n",
       " 0.009900409650591005,\n",
       " 0.009900391561447753,\n",
       " 0.009900372006197155,\n",
       " 0.009900370712839428,\n",
       " 0.009900351683831968,\n",
       " 0.009900351454686812,\n",
       " 0.009900333008936344,\n",
       " 0.009900313114104938,\n",
       " 0.00990031174071496,\n",
       " 0.009900292361616759,\n",
       " 0.009900291987625997,\n",
       " 0.009900273256884494,\n",
       " 0.00990025298782302,\n",
       " 0.009900251453090897,\n",
       " 0.009900231746408106,\n",
       " 0.009900231218951278,\n",
       " 0.009900212061870726,\n",
       " 0.009900191420015952,\n",
       " 0.009900189755075312,\n",
       " 0.009900169674561822,\n",
       " 0.009900168935773494,\n",
       " 0.009900149427070275,\n",
       " 0.009900128383906213,\n",
       " 0.009900126560228132,\n",
       " 0.009900106026624944,\n",
       " 0.009900105113576677,\n",
       " 0.009900085182531188,\n",
       " 0.009900063780973143,\n",
       " 0.009900061798201288,\n",
       " 0.009900040856421,\n",
       " 0.009900039705652073,\n",
       " 0.009900019369461754,\n",
       " 0.009900019233229954,\n",
       " 0.009899999562230291,\n",
       " 0.009899978225849586,\n",
       " 0.00989997688126099,\n",
       " 0.009899956076989411,\n",
       " 0.009899955704477785,\n",
       " 0.009899935551147366,\n",
       " 0.009899913759266526,\n",
       " 0.009899912196364685,\n",
       " 0.009899890972925764,\n",
       " 0.009899890349458302,\n",
       " 0.009899869715962285,\n",
       " 0.009899847480360656,\n",
       " 0.009899845653334363,\n",
       " 0.009899823921355577,\n",
       " 0.009899823009655362,\n",
       " 0.009899801895008713]"
      ]
     },
     "execution_count": 406,
     "metadata": {},
     "output_type": "execute_result"
    }
   ],
   "source": [
    "fitLosses"
   ]
  },
  {
   "cell_type": "code",
   "execution_count": 407,
   "id": "bbd534a0",
   "metadata": {},
   "outputs": [
    {
     "data": {
      "text/plain": [
       "[0.04099589657798539,\n",
       " 0.04149473186717506,\n",
       " 0.04168191480914011,\n",
       " 0.0417521150874623,\n",
       " 0.04180475521174477,\n",
       " 0.04184424660182099,\n",
       " 0.04187386534401094,\n",
       " 0.041896076845587174,\n",
       " 0.04191272516563577,\n",
       " 0.04192522063286989,\n",
       " 0.04193459027901737,\n",
       " 0.04194864422677276,\n",
       " 0.04195918717815026,\n",
       " 0.04196708805682069,\n",
       " 0.04197894343856285,\n",
       " 0.04198783864215682,\n",
       " 0.04200118093316158,\n",
       " 0.042011184745667084,\n",
       " 0.042018690295323693,\n",
       " 0.042029946485365614,\n",
       " 0.042038390155671505,\n",
       " 0.04205105380182213,\n",
       " 0.0420605512673312,\n",
       " 0.04206767325873766,\n",
       " 0.04207835727974563,\n",
       " 0.04208637178004207,\n",
       " 0.042098392842254403,\n",
       " 0.04210740880569008,\n",
       " 0.04211416854277418,\n",
       " 0.042124312036513865,\n",
       " 0.042131918504488455,\n",
       " 0.042143329110245806,\n",
       " 0.042151885251414695,\n",
       " 0.04215830410729659,\n",
       " 0.042167932646529536,\n",
       " 0.04217515093390241,\n",
       " 0.04218597296608149,\n",
       " 0.04219409165872822,\n",
       " 0.042200182576106755,\n",
       " 0.04220932133469174,\n",
       " 0.04221617516842353,\n",
       " 0.04222645562786064,\n",
       " 0.042234166791333155,\n",
       " 0.042239949723747845,\n",
       " 0.04224862490361395,\n",
       " 0.04225513013213251,\n",
       " 0.04226488871697608,\n",
       " 0.042272206890809266,\n",
       " 0.0422776965133187,\n",
       " 0.0422859291987845,\n",
       " 0.04229210089742836,\n",
       " 0.04230136089107472,\n",
       " 0.04230830602190478,\n",
       " 0.04231351642042249,\n",
       " 0.042321332306706726,\n",
       " 0.04232719062687855,\n",
       " 0.042335982248397894,\n",
       " 0.0423425769199774,\n",
       " 0.042347521531233195,\n",
       " 0.04235494021029605,\n",
       " 0.0423605006847888,\n",
       " 0.04236884678411015,\n",
       " 0.042375098346606986,\n",
       " 0.042379793083062625,\n",
       " 0.042386835306573174,\n",
       " 0.042392116683688946,\n",
       " 0.04240003749327918,\n",
       " 0.042405978835260504,\n",
       " 0.04241043342964824,\n",
       " 0.042417110902138816,\n",
       " 0.042422123115515756,\n",
       " 0.042429643112412124,\n",
       " 0.042435282883638875,\n",
       " 0.04244374130539988,\n",
       " 0.04245008324648328,\n",
       " 0.04245484182837898,\n",
       " 0.042461977570360285,\n",
       " 0.0424673309522392,\n",
       " 0.04247536075955612,\n",
       " 0.04248138324144252,\n",
       " 0.04248590008940028,\n",
       " 0.04249267176063072,\n",
       " 0.04249774787885144,\n",
       " 0.042505370035238514,\n",
       " 0.04251108574688966,\n",
       " 0.04251537282106796,\n",
       " 0.04252180232297267,\n",
       " 0.04252662554010027,\n",
       " 0.04253385965759923,\n",
       " 0.04253928574061128]"
      ]
     },
     "execution_count": 407,
     "metadata": {},
     "output_type": "execute_result"
    }
   ],
   "source": [
    "leakingRates"
   ]
  },
  {
   "cell_type": "code",
   "execution_count": null,
   "id": "23a592dc",
   "metadata": {},
   "outputs": [],
   "source": []
  }
 ],
 "metadata": {
  "kernelspec": {
   "display_name": "Python 3",
   "language": "python",
   "name": "python3"
  },
  "language_info": {
   "codemirror_mode": {
    "name": "ipython",
    "version": 3
   },
   "file_extension": ".py",
   "mimetype": "text/x-python",
   "name": "python",
   "nbconvert_exporter": "python",
   "pygments_lexer": "ipython3",
   "version": "3.8.8"
  }
 },
 "nbformat": 4,
 "nbformat_minor": 5
}
