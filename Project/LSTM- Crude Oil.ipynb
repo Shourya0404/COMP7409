{
 "cells": [
  {
   "cell_type": "markdown",
   "id": "a6eb8005",
   "metadata": {},
   "source": [
    "### Imports"
   ]
  },
  {
   "cell_type": "code",
   "execution_count": 1,
   "id": "a9bf6e85",
   "metadata": {},
   "outputs": [],
   "source": [
    "import pandas as pd\n",
    "from pandas_datareader import data\n",
    "from datetime import datetime\n",
    "import matplotlib.pyplot as plt\n",
    "import time"
   ]
  },
  {
   "cell_type": "markdown",
   "id": "7050d9e6",
   "metadata": {},
   "source": [
    "### Obtain and Prepare Data"
   ]
  },
  {
   "cell_type": "code",
   "execution_count": 2,
   "id": "1110463e",
   "metadata": {},
   "outputs": [],
   "source": [
    "start = datetime.strptime('2020-01-02','%Y-%m-%d')\n",
    "end = datetime.strptime('2022-02-28','%Y-%m-%d')\n",
    "\n",
    "df = data.DataReader('CL=F',start=start, end=end, data_source='yahoo')\n",
    "df = df[:1500]['Close']"
   ]
  },
  {
   "cell_type": "code",
   "execution_count": 3,
   "id": "8e80a65f",
   "metadata": {},
   "outputs": [],
   "source": [
    "import numpy as np\n",
    "from sklearn.preprocessing import MinMaxScaler\n",
    "scaler=MinMaxScaler(feature_range=(0,1))\n",
    "data = scaler.fit_transform(np.array(df).reshape(-1,1))"
   ]
  },
  {
   "cell_type": "code",
   "execution_count": 4,
   "id": "c072dfad",
   "metadata": {},
   "outputs": [],
   "source": [
    "training_size=int(len(data)*0.65)\n",
    "test_size=len(data)-training_size\n",
    "train_data,test_data=data[0:training_size,:],data[training_size:len(data),:]"
   ]
  },
  {
   "cell_type": "code",
   "execution_count": 5,
   "id": "44a13063",
   "metadata": {},
   "outputs": [],
   "source": [
    "def create_dataset(dataset, time_step=1):\n",
    "    dataX, dataY = [], []\n",
    "    for i in range(len(dataset)-time_step-1):\n",
    "        a = dataset[i:(i+time_step), 0]\n",
    "        dataX.append(a)\n",
    "        dataY.append(dataset[i+time_step,0])\n",
    "    return np.array(dataX), np.array(dataY)"
   ]
  },
  {
   "cell_type": "code",
   "execution_count": 6,
   "id": "67416160",
   "metadata": {},
   "outputs": [],
   "source": [
    "time_step = 100\n",
    "X_train, y_train = create_dataset(train_data, time_step)\n",
    "X_test, y_test = create_dataset(test_data, time_step)"
   ]
  },
  {
   "cell_type": "code",
   "execution_count": 7,
   "id": "003b1c56",
   "metadata": {},
   "outputs": [],
   "source": [
    "X_train = X_train.reshape(X_train.shape[0], X_train.shape[1], 1)\n",
    "X_test = X_test.reshape(X_test.shape[0], X_test.shape[1],1)"
   ]
  },
  {
   "cell_type": "markdown",
   "id": "74fe6048",
   "metadata": {},
   "source": [
    "### Build and Train LSTM"
   ]
  },
  {
   "cell_type": "code",
   "execution_count": 8,
   "id": "bf50574f",
   "metadata": {},
   "outputs": [],
   "source": [
    "import tensorflow as tf\n",
    "from tensorflow.keras.models import Sequential\n",
    "from tensorflow.keras.layers import Dense\n",
    "from tensorflow.keras.layers import LSTM"
   ]
  },
  {
   "cell_type": "code",
   "execution_count": 9,
   "id": "4b102eda",
   "metadata": {},
   "outputs": [],
   "source": [
    "model=Sequential() \n",
    "model.add(LSTM(50,return_sequences=True,input_shape=(time_step,1))) \n",
    "model.add(LSTM(50,return_sequences=True)) \n",
    "model.add(LSTM(50)) \n",
    "model.add(Dense(1)) \n",
    "model.compile(loss='mean_squared_error',optimizer='adam')"
   ]
  },
  {
   "cell_type": "code",
   "execution_count": 10,
   "id": "eae54ebc",
   "metadata": {
    "scrolled": true
   },
   "outputs": [
    {
     "name": "stdout",
     "output_type": "stream",
     "text": [
      "Epoch 1/100\n",
      "4/4 [==============================] - 8s 624ms/step - loss: 0.3357 - val_loss: 0.3413\n",
      "Epoch 2/100\n",
      "4/4 [==============================] - 1s 172ms/step - loss: 0.0719 - val_loss: 0.0442\n",
      "Epoch 3/100\n",
      "4/4 [==============================] - 1s 171ms/step - loss: 0.0457 - val_loss: 0.0069\n",
      "Epoch 4/100\n",
      "4/4 [==============================] - 1s 175ms/step - loss: 0.0084 - val_loss: 0.0751\n",
      "Epoch 5/100\n",
      "4/4 [==============================] - 1s 163ms/step - loss: 0.0194 - val_loss: 0.0493\n",
      "Epoch 6/100\n",
      "4/4 [==============================] - 1s 176ms/step - loss: 0.0048 - val_loss: 0.0070\n",
      "Epoch 7/100\n",
      "4/4 [==============================] - 1s 180ms/step - loss: 0.0056 - val_loss: 0.0026\n",
      "Epoch 8/100\n",
      "4/4 [==============================] - 1s 173ms/step - loss: 0.0045 - val_loss: 0.0144\n",
      "Epoch 9/100\n",
      "4/4 [==============================] - 1s 173ms/step - loss: 0.0022 - val_loss: 0.0313\n",
      "Epoch 10/100\n",
      "4/4 [==============================] - 1s 190ms/step - loss: 0.0035 - val_loss: 0.0246\n",
      "Epoch 11/100\n",
      "4/4 [==============================] - 1s 195ms/step - loss: 0.0017 - val_loss: 0.0118\n",
      "Epoch 12/100\n",
      "4/4 [==============================] - 1s 181ms/step - loss: 0.0020 - val_loss: 0.0091\n",
      "Epoch 13/100\n",
      "4/4 [==============================] - 1s 184ms/step - loss: 0.0018 - val_loss: 0.0155\n",
      "Epoch 14/100\n",
      "4/4 [==============================] - 1s 226ms/step - loss: 0.0015 - val_loss: 0.0202\n",
      "Epoch 15/100\n",
      "4/4 [==============================] - 1s 204ms/step - loss: 0.0016 - val_loss: 0.0164\n",
      "Epoch 16/100\n",
      "4/4 [==============================] - 1s 180ms/step - loss: 0.0014 - val_loss: 0.0119\n",
      "Epoch 17/100\n",
      "4/4 [==============================] - 1s 184ms/step - loss: 0.0015 - val_loss: 0.0126\n",
      "Epoch 18/100\n",
      "4/4 [==============================] - 1s 177ms/step - loss: 0.0014 - val_loss: 0.0157\n",
      "Epoch 19/100\n",
      "4/4 [==============================] - 1s 170ms/step - loss: 0.0013 - val_loss: 0.0146\n",
      "Epoch 20/100\n",
      "4/4 [==============================] - 1s 179ms/step - loss: 0.0013 - val_loss: 0.0129\n",
      "Epoch 21/100\n",
      "4/4 [==============================] - 1s 175ms/step - loss: 0.0013 - val_loss: 0.0120\n",
      "Epoch 22/100\n",
      "4/4 [==============================] - 1s 174ms/step - loss: 0.0012 - val_loss: 0.0134\n",
      "Epoch 23/100\n",
      "4/4 [==============================] - 1s 184ms/step - loss: 0.0012 - val_loss: 0.0132\n",
      "Epoch 24/100\n",
      "4/4 [==============================] - 1s 178ms/step - loss: 0.0012 - val_loss: 0.0116\n",
      "Epoch 25/100\n",
      "4/4 [==============================] - 1s 181ms/step - loss: 0.0012 - val_loss: 0.0107\n",
      "Epoch 26/100\n",
      "4/4 [==============================] - 1s 177ms/step - loss: 0.0011 - val_loss: 0.0123\n",
      "Epoch 27/100\n",
      "4/4 [==============================] - 1s 177ms/step - loss: 0.0011 - val_loss: 0.0117\n",
      "Epoch 28/100\n",
      "4/4 [==============================] - 1s 173ms/step - loss: 0.0011 - val_loss: 0.0099\n",
      "Epoch 29/100\n",
      "4/4 [==============================] - 1s 179ms/step - loss: 0.0011 - val_loss: 0.0100\n",
      "Epoch 30/100\n",
      "4/4 [==============================] - 1s 175ms/step - loss: 0.0010 - val_loss: 0.0107\n",
      "Epoch 31/100\n",
      "4/4 [==============================] - 1s 173ms/step - loss: 9.8762e-04 - val_loss: 0.0098\n",
      "Epoch 32/100\n",
      "4/4 [==============================] - 1s 180ms/step - loss: 9.5323e-04 - val_loss: 0.0091\n",
      "Epoch 33/100\n",
      "4/4 [==============================] - 1s 179ms/step - loss: 9.2737e-04 - val_loss: 0.0089\n",
      "Epoch 34/100\n",
      "4/4 [==============================] - 1s 174ms/step - loss: 9.0237e-04 - val_loss: 0.0088\n",
      "Epoch 35/100\n",
      "4/4 [==============================] - 1s 161ms/step - loss: 8.7497e-04 - val_loss: 0.0081\n",
      "Epoch 36/100\n",
      "4/4 [==============================] - 1s 141ms/step - loss: 8.6438e-04 - val_loss: 0.0082\n",
      "Epoch 37/100\n",
      "4/4 [==============================] - 1s 140ms/step - loss: 8.1882e-04 - val_loss: 0.0073\n",
      "Epoch 38/100\n",
      "4/4 [==============================] - 1s 148ms/step - loss: 8.0731e-04 - val_loss: 0.0069\n",
      "Epoch 39/100\n",
      "4/4 [==============================] - 1s 138ms/step - loss: 7.7770e-04 - val_loss: 0.0076\n",
      "Epoch 40/100\n",
      "4/4 [==============================] - 1s 141ms/step - loss: 7.5672e-04 - val_loss: 0.0065\n",
      "Epoch 41/100\n",
      "4/4 [==============================] - 1s 147ms/step - loss: 7.3381e-04 - val_loss: 0.0060\n",
      "Epoch 42/100\n",
      "4/4 [==============================] - 1s 164ms/step - loss: 7.0902e-04 - val_loss: 0.0065\n",
      "Epoch 43/100\n",
      "4/4 [==============================] - 0s 130ms/step - loss: 6.9173e-04 - val_loss: 0.0054\n",
      "Epoch 44/100\n",
      "4/4 [==============================] - 1s 134ms/step - loss: 6.7815e-04 - val_loss: 0.0055\n",
      "Epoch 45/100\n",
      "4/4 [==============================] - 1s 146ms/step - loss: 6.6167e-04 - val_loss: 0.0057\n",
      "Epoch 46/100\n",
      "4/4 [==============================] - 1s 163ms/step - loss: 6.2892e-04 - val_loss: 0.0044\n",
      "Epoch 47/100\n",
      "4/4 [==============================] - 1s 161ms/step - loss: 6.1856e-04 - val_loss: 0.0048\n",
      "Epoch 48/100\n",
      "4/4 [==============================] - 1s 172ms/step - loss: 6.0344e-04 - val_loss: 0.0046\n",
      "Epoch 49/100\n",
      "4/4 [==============================] - 1s 195ms/step - loss: 5.6735e-04 - val_loss: 0.0039\n",
      "Epoch 50/100\n",
      "4/4 [==============================] - 1s 213ms/step - loss: 5.6284e-04 - val_loss: 0.0040\n",
      "Epoch 51/100\n",
      "4/4 [==============================] - 1s 178ms/step - loss: 5.4475e-04 - val_loss: 0.0039\n",
      "Epoch 52/100\n",
      "4/4 [==============================] - 1s 154ms/step - loss: 5.3246e-04 - val_loss: 0.0035\n",
      "Epoch 53/100\n",
      "4/4 [==============================] - 1s 165ms/step - loss: 5.1974e-04 - val_loss: 0.0034\n",
      "Epoch 54/100\n",
      "4/4 [==============================] - 1s 170ms/step - loss: 5.0966e-04 - val_loss: 0.0032\n",
      "Epoch 55/100\n",
      "4/4 [==============================] - 1s 216ms/step - loss: 4.9931e-04 - val_loss: 0.0030\n",
      "Epoch 56/100\n",
      "4/4 [==============================] - 1s 179ms/step - loss: 5.0130e-04 - val_loss: 0.0028\n",
      "Epoch 57/100\n",
      "4/4 [==============================] - 1s 163ms/step - loss: 4.7799e-04 - val_loss: 0.0031\n",
      "Epoch 58/100\n",
      "4/4 [==============================] - 1s 182ms/step - loss: 4.8075e-04 - val_loss: 0.0024\n",
      "Epoch 59/100\n",
      "4/4 [==============================] - 1s 178ms/step - loss: 4.6806e-04 - val_loss: 0.0027\n",
      "Epoch 60/100\n",
      "4/4 [==============================] - 1s 178ms/step - loss: 4.7416e-04 - val_loss: 0.0025\n",
      "Epoch 61/100\n",
      "4/4 [==============================] - 1s 157ms/step - loss: 4.6654e-04 - val_loss: 0.0025\n",
      "Epoch 62/100\n",
      "4/4 [==============================] - 1s 151ms/step - loss: 4.4394e-04 - val_loss: 0.0021\n",
      "Epoch 63/100\n",
      "4/4 [==============================] - 1s 163ms/step - loss: 4.6366e-04 - val_loss: 0.0025\n",
      "Epoch 64/100\n",
      "4/4 [==============================] - 1s 173ms/step - loss: 4.5377e-04 - val_loss: 0.0021\n",
      "Epoch 65/100\n",
      "4/4 [==============================] - 1s 204ms/step - loss: 4.4137e-04 - val_loss: 0.0023\n",
      "Epoch 66/100\n",
      "4/4 [==============================] - 1s 168ms/step - loss: 4.4165e-04 - val_loss: 0.0020\n",
      "Epoch 67/100\n",
      "4/4 [==============================] - 1s 157ms/step - loss: 4.3989e-04 - val_loss: 0.0021\n",
      "Epoch 68/100\n",
      "4/4 [==============================] - 1s 160ms/step - loss: 4.4244e-04 - val_loss: 0.0021\n",
      "Epoch 69/100\n",
      "4/4 [==============================] - 1s 152ms/step - loss: 4.3145e-04 - val_loss: 0.0020\n",
      "Epoch 70/100\n",
      "4/4 [==============================] - 1s 161ms/step - loss: 4.3002e-04 - val_loss: 0.0019\n",
      "Epoch 71/100\n",
      "4/4 [==============================] - 1s 161ms/step - loss: 4.4022e-04 - val_loss: 0.0019\n",
      "Epoch 72/100\n",
      "4/4 [==============================] - 1s 157ms/step - loss: 4.4070e-04 - val_loss: 0.0019\n",
      "Epoch 73/100\n",
      "4/4 [==============================] - 1s 159ms/step - loss: 4.4228e-04 - val_loss: 0.0019\n",
      "Epoch 74/100\n",
      "4/4 [==============================] - 1s 157ms/step - loss: 4.2385e-04 - val_loss: 0.0019\n",
      "Epoch 75/100\n",
      "4/4 [==============================] - 1s 157ms/step - loss: 4.2049e-04 - val_loss: 0.0019\n",
      "Epoch 76/100\n",
      "4/4 [==============================] - 1s 161ms/step - loss: 4.1769e-04 - val_loss: 0.0019\n",
      "Epoch 77/100\n",
      "4/4 [==============================] - 1s 155ms/step - loss: 4.2067e-04 - val_loss: 0.0018\n",
      "Epoch 78/100\n",
      "4/4 [==============================] - 1s 168ms/step - loss: 4.1851e-04 - val_loss: 0.0018\n",
      "Epoch 79/100\n",
      "4/4 [==============================] - 1s 151ms/step - loss: 4.2189e-04 - val_loss: 0.0019\n",
      "Epoch 80/100\n",
      "4/4 [==============================] - 1s 159ms/step - loss: 4.1700e-04 - val_loss: 0.0018\n",
      "Epoch 81/100\n"
     ]
    },
    {
     "name": "stdout",
     "output_type": "stream",
     "text": [
      "4/4 [==============================] - 1s 160ms/step - loss: 4.1244e-04 - val_loss: 0.0018\n",
      "Epoch 82/100\n",
      "4/4 [==============================] - 1s 154ms/step - loss: 4.1232e-04 - val_loss: 0.0018\n",
      "Epoch 83/100\n",
      "4/4 [==============================] - 1s 167ms/step - loss: 4.0845e-04 - val_loss: 0.0018\n",
      "Epoch 84/100\n",
      "4/4 [==============================] - 1s 149ms/step - loss: 4.0842e-04 - val_loss: 0.0017\n",
      "Epoch 85/100\n",
      "4/4 [==============================] - 1s 167ms/step - loss: 4.2398e-04 - val_loss: 0.0019\n",
      "Epoch 86/100\n",
      "4/4 [==============================] - 1s 160ms/step - loss: 4.3875e-04 - val_loss: 0.0017\n",
      "Epoch 87/100\n",
      "4/4 [==============================] - 1s 156ms/step - loss: 4.3001e-04 - val_loss: 0.0019\n",
      "Epoch 88/100\n",
      "4/4 [==============================] - 1s 165ms/step - loss: 4.0436e-04 - val_loss: 0.0017\n",
      "Epoch 89/100\n",
      "4/4 [==============================] - 1s 154ms/step - loss: 4.0136e-04 - val_loss: 0.0019\n",
      "Epoch 90/100\n",
      "4/4 [==============================] - 1s 164ms/step - loss: 4.2440e-04 - val_loss: 0.0017\n",
      "Epoch 91/100\n",
      "4/4 [==============================] - 1s 162ms/step - loss: 3.9597e-04 - val_loss: 0.0018\n",
      "Epoch 92/100\n",
      "4/4 [==============================] - 1s 155ms/step - loss: 3.9619e-04 - val_loss: 0.0017\n",
      "Epoch 93/100\n",
      "4/4 [==============================] - 1s 169ms/step - loss: 3.9512e-04 - val_loss: 0.0017\n",
      "Epoch 94/100\n",
      "4/4 [==============================] - 1s 157ms/step - loss: 4.0452e-04 - val_loss: 0.0017\n",
      "Epoch 95/100\n",
      "4/4 [==============================] - 1s 169ms/step - loss: 4.1349e-04 - val_loss: 0.0017\n",
      "Epoch 96/100\n",
      "4/4 [==============================] - 1s 160ms/step - loss: 3.8998e-04 - val_loss: 0.0017\n",
      "Epoch 97/100\n",
      "4/4 [==============================] - 1s 156ms/step - loss: 3.9145e-04 - val_loss: 0.0016\n",
      "Epoch 98/100\n",
      "4/4 [==============================] - 1s 165ms/step - loss: 3.8759e-04 - val_loss: 0.0016\n",
      "Epoch 99/100\n",
      "4/4 [==============================] - 1s 154ms/step - loss: 3.8361e-04 - val_loss: 0.0016\n",
      "Epoch 100/100\n",
      "4/4 [==============================] - 1s 167ms/step - loss: 3.8298e-04 - val_loss: 0.0017\n"
     ]
    }
   ],
   "source": [
    "start= time.time()\n",
    "model.fit(X_train,y_train,validation_data=(X_test,y_test),epochs=100,batch_size=64,verbose=1)\n",
    "end=time.time()"
   ]
  },
  {
   "cell_type": "markdown",
   "id": "5e4775f4",
   "metadata": {},
   "source": [
    "### Make Predictions"
   ]
  },
  {
   "cell_type": "code",
   "execution_count": 11,
   "id": "714a2789",
   "metadata": {},
   "outputs": [],
   "source": [
    "train_predict=model.predict(X_train)\n",
    "test_predict=model.predict(X_test)\n",
    "train_predict=scaler.inverse_transform(train_predict)\n",
    "test_predict=scaler.inverse_transform(test_predict)"
   ]
  },
  {
   "cell_type": "markdown",
   "id": "8848a610",
   "metadata": {},
   "source": [
    "### Visualize Results"
   ]
  },
  {
   "cell_type": "code",
   "execution_count": 12,
   "id": "667970b2",
   "metadata": {},
   "outputs": [
    {
     "data": {
      "text/plain": [
       "<function matplotlib.pyplot.show(close=None, block=None)>"
      ]
     },
     "execution_count": 12,
     "metadata": {},
     "output_type": "execute_result"
    },
    {
     "data": {
      "image/png": "[encoded data removed]",
      "text/plain": [
       "<Figure size 864x576 with 1 Axes>"
      ]
     },
     "metadata": {
      "needs_background": "light"
     },
     "output_type": "display_data"
    }
   ],
   "source": [
    "look_back=time_step\n",
    "trainPredictPlot=np.empty_like(data)\n",
    "trainPredictPlot[:,:]=np.nan\n",
    "trainPredictPlot[look_back:len(train_predict)+look_back,:] = train_predict\n",
    "\n",
    "testPredictPlot=np.empty_like(data)\n",
    "testPredictPlot[:,:] = np.nan\n",
    "testPredictPlot[len(train_predict)+(look_back*2)+1:len(data)-1,:] = test_predict\n",
    "\n",
    "plt.figure(figsize=(12,8))\n",
    "plt.plot(scaler.inverse_transform(data))\n",
    "plt.plot(testPredictPlot)\n",
    "plt.plot(trainPredictPlot)\n",
    "plt.legend(['Actual Data','Test Predict','Train Predict'])\n",
    "\n",
    "plt.show"
   ]
  },
  {
   "cell_type": "code",
   "execution_count": 13,
   "id": "d7feb0ef",
   "metadata": {},
   "outputs": [
    {
     "data": {
      "text/plain": [
       "<function matplotlib.pyplot.show(close=None, block=None)>"
      ]
     },
     "execution_count": 13,
     "metadata": {},
     "output_type": "execute_result"
    },
    {
     "data": {
      "image/png": "[encoded data removed]",
      "text/plain": [
       "<Figure size 864x576 with 1 Axes>"
      ]
     },
     "metadata": {
      "needs_background": "light"
     },
     "output_type": "display_data"
    }
   ],
   "source": [
    "plt.figure(figsize=(12,8))\n",
    "plt.plot(scaler.inverse_transform(data)[len(train_predict)+(look_back*2)+1:len(data)-1])\n",
    "plt.plot(test_predict)\n",
    "plt.legend(['Actual Data','Test Predict'])\n",
    "plt.show"
   ]
  },
  {
   "cell_type": "markdown",
   "id": "4157561d",
   "metadata": {},
   "source": [
    "### Evaluation"
   ]
  },
  {
   "cell_type": "code",
   "execution_count": 14,
   "id": "91ad75af",
   "metadata": {},
   "outputs": [
    {
     "name": "stdout",
     "output_type": "stream",
     "text": [
      "MSE: 0.0016549296532294563\n"
     ]
    }
   ],
   "source": [
    "from sklearn.metrics import mean_squared_error\n",
    "test_predict=model.predict(X_test)\n",
    "print('MSE:',mean_squared_error(y_test, test_predict))"
   ]
  },
  {
   "cell_type": "code",
   "execution_count": 15,
   "id": "a648014b",
   "metadata": {},
   "outputs": [
    {
     "name": "stdout",
     "output_type": "stream",
     "text": [
      "Coefficient of Variation: 0.3381533373223475\n"
     ]
    }
   ],
   "source": [
    "print('Coefficient of Variation:',df.std()/df.mean())"
   ]
  },
  {
   "cell_type": "code",
   "execution_count": 16,
   "id": "f2a44884",
   "metadata": {},
   "outputs": [
    {
     "name": "stdout",
     "output_type": "stream",
     "text": [
      "Time taken for training in seconds: 71.18873310089111\n"
     ]
    }
   ],
   "source": [
    "print('Time taken for training in seconds:',end-start)"
   ]
  }
 ],
 "metadata": {
  "kernelspec": {
   "display_name": "Python 3",
   "language": "python",
   "name": "python3"
  },
  "language_info": {
   "codemirror_mode": {
    "name": "ipython",
    "version": 3
   },
   "file_extension": ".py",
   "mimetype": "text/x-python",
   "name": "python",
   "nbconvert_exporter": "python",
   "pygments_lexer": "ipython3",
   "version": "3.8.8"
  }
 },
 "nbformat": 4,
 "nbformat_minor": 5
}
